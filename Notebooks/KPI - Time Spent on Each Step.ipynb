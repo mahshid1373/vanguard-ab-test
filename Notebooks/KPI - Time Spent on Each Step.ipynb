{
 "cells": [
  {
   "cell_type": "markdown",
   "metadata": {},
   "source": [
    "# Initial Steps for KPI measurement- Time spent on each step\n",
    "\n",
    "The initial steps for data analysis in Python include:\n",
    "\n",
    "1. **Joining Datasets and Clean:** This involves combining the datasets for analytical purposes.  To measure this KPI, we will need to cocatenate df final web data pt 1 and 2 and df final experiment clients.  \n",
    " \n",
    "2. **Exploratory Data Analysis (EDA):** EDA is a systematic approach to initial data inspection. It leverages **descriptive analysis** techniques to understand the data better, identify outliers, highlight significant variables, and generally uncover underlying data patterns and statistics. Additionally, EDA helps in organizing the data, spotting errors, and assessing missing values.\n",
    "\n",
    "43. **Visualization:** To build intuitive graphs that show the outcome of the analytics."
   ]
  },
  {
   "cell_type": "code",
   "execution_count": 2,
   "metadata": {},
   "outputs": [],
   "source": [
    "import pandas as pd\n",
    "import seaborn as sns\n",
    "import matplotlib.pyplot as plt"
   ]
  },
  {
   "cell_type": "markdown",
   "metadata": {},
   "source": [
    "1. Join Datasets and clean final dataframe"
   ]
  },
  {
   "cell_type": "code",
   "execution_count": 3,
   "metadata": {},
   "outputs": [],
   "source": [
    "pt_1 = pd.read_csv('../Data/cleaned_pt_1.csv')\n",
    "pt_2 = pd.read_csv('../Data/cleaned_pt_2.csv')\n",
    "experiment = pd.read_csv('../Data/df_final_experiment_clients.txt')"
   ]
  },
  {
   "cell_type": "code",
   "execution_count": 4,
   "metadata": {},
   "outputs": [
    {
     "data": {
      "text/plain": [
       "(341046, 5)"
      ]
     },
     "execution_count": 4,
     "metadata": {},
     "output_type": "execute_result"
    }
   ],
   "source": [
    "pt_1.shape"
   ]
  },
  {
   "cell_type": "code",
   "execution_count": 5,
   "metadata": {},
   "outputs": [],
   "source": [
    "#concatenate pt 1 and pt 2 and experiment and remove duplicated columns\n",
    "df_kpi = pd.concat([pt_1, pt_2, experiment], axis=1)\n",
    "df_kpi = df_kpi.loc[:,~df_kpi.columns.duplicated()]\n"
   ]
  },
  {
   "cell_type": "code",
   "execution_count": 6,
   "metadata": {},
   "outputs": [
    {
     "data": {
      "text/html": [
       "<div>\n",
       "<style scoped>\n",
       "    .dataframe tbody tr th:only-of-type {\n",
       "        vertical-align: middle;\n",
       "    }\n",
       "\n",
       "    .dataframe tbody tr th {\n",
       "        vertical-align: top;\n",
       "    }\n",
       "\n",
       "    .dataframe thead th {\n",
       "        text-align: right;\n",
       "    }\n",
       "</style>\n",
       "<table border=\"1\" class=\"dataframe\">\n",
       "  <thead>\n",
       "    <tr style=\"text-align: right;\">\n",
       "      <th></th>\n",
       "      <th>client_id</th>\n",
       "      <th>visitor_id</th>\n",
       "      <th>visit_id</th>\n",
       "      <th>process_step</th>\n",
       "      <th>date_time</th>\n",
       "      <th>Variation</th>\n",
       "    </tr>\n",
       "  </thead>\n",
       "  <tbody>\n",
       "    <tr>\n",
       "      <th>0</th>\n",
       "      <td>9988021.0</td>\n",
       "      <td>580560515_7732621733</td>\n",
       "      <td>781255054_21935453173_531117</td>\n",
       "      <td>step_3</td>\n",
       "      <td>2017-04-17 15:27:07</td>\n",
       "      <td>Test</td>\n",
       "    </tr>\n",
       "    <tr>\n",
       "      <th>1</th>\n",
       "      <td>9988021.0</td>\n",
       "      <td>580560515_7732621733</td>\n",
       "      <td>781255054_21935453173_531117</td>\n",
       "      <td>step_2</td>\n",
       "      <td>2017-04-17 15:26:51</td>\n",
       "      <td>Test</td>\n",
       "    </tr>\n",
       "    <tr>\n",
       "      <th>2</th>\n",
       "      <td>9988021.0</td>\n",
       "      <td>580560515_7732621733</td>\n",
       "      <td>781255054_21935453173_531117</td>\n",
       "      <td>step_3</td>\n",
       "      <td>2017-04-17 15:19:22</td>\n",
       "      <td>Control</td>\n",
       "    </tr>\n",
       "    <tr>\n",
       "      <th>3</th>\n",
       "      <td>9988021.0</td>\n",
       "      <td>580560515_7732621733</td>\n",
       "      <td>781255054_21935453173_531117</td>\n",
       "      <td>step_2</td>\n",
       "      <td>2017-04-17 15:19:13</td>\n",
       "      <td>Test</td>\n",
       "    </tr>\n",
       "    <tr>\n",
       "      <th>4</th>\n",
       "      <td>9988021.0</td>\n",
       "      <td>580560515_7732621733</td>\n",
       "      <td>781255054_21935453173_531117</td>\n",
       "      <td>step_3</td>\n",
       "      <td>2017-04-17 15:18:04</td>\n",
       "      <td>Control</td>\n",
       "    </tr>\n",
       "    <tr>\n",
       "      <th>...</th>\n",
       "      <td>...</td>\n",
       "      <td>...</td>\n",
       "      <td>...</td>\n",
       "      <td>...</td>\n",
       "      <td>...</td>\n",
       "      <td>...</td>\n",
       "    </tr>\n",
       "    <tr>\n",
       "      <th>403590</th>\n",
       "      <td>NaN</td>\n",
       "      <td>NaN</td>\n",
       "      <td>NaN</td>\n",
       "      <td>NaN</td>\n",
       "      <td>NaN</td>\n",
       "      <td>NaN</td>\n",
       "    </tr>\n",
       "    <tr>\n",
       "      <th>403591</th>\n",
       "      <td>NaN</td>\n",
       "      <td>NaN</td>\n",
       "      <td>NaN</td>\n",
       "      <td>NaN</td>\n",
       "      <td>NaN</td>\n",
       "      <td>NaN</td>\n",
       "    </tr>\n",
       "    <tr>\n",
       "      <th>403592</th>\n",
       "      <td>NaN</td>\n",
       "      <td>NaN</td>\n",
       "      <td>NaN</td>\n",
       "      <td>NaN</td>\n",
       "      <td>NaN</td>\n",
       "      <td>NaN</td>\n",
       "    </tr>\n",
       "    <tr>\n",
       "      <th>403593</th>\n",
       "      <td>NaN</td>\n",
       "      <td>NaN</td>\n",
       "      <td>NaN</td>\n",
       "      <td>NaN</td>\n",
       "      <td>NaN</td>\n",
       "      <td>NaN</td>\n",
       "    </tr>\n",
       "    <tr>\n",
       "      <th>403594</th>\n",
       "      <td>NaN</td>\n",
       "      <td>NaN</td>\n",
       "      <td>NaN</td>\n",
       "      <td>NaN</td>\n",
       "      <td>NaN</td>\n",
       "      <td>NaN</td>\n",
       "    </tr>\n",
       "  </tbody>\n",
       "</table>\n",
       "<p>403595 rows × 6 columns</p>\n",
       "</div>"
      ],
      "text/plain": [
       "        client_id            visitor_id                      visit_id  \\\n",
       "0       9988021.0  580560515_7732621733  781255054_21935453173_531117   \n",
       "1       9988021.0  580560515_7732621733  781255054_21935453173_531117   \n",
       "2       9988021.0  580560515_7732621733  781255054_21935453173_531117   \n",
       "3       9988021.0  580560515_7732621733  781255054_21935453173_531117   \n",
       "4       9988021.0  580560515_7732621733  781255054_21935453173_531117   \n",
       "...           ...                   ...                           ...   \n",
       "403590        NaN                   NaN                           NaN   \n",
       "403591        NaN                   NaN                           NaN   \n",
       "403592        NaN                   NaN                           NaN   \n",
       "403593        NaN                   NaN                           NaN   \n",
       "403594        NaN                   NaN                           NaN   \n",
       "\n",
       "       process_step            date_time Variation  \n",
       "0            step_3  2017-04-17 15:27:07      Test  \n",
       "1            step_2  2017-04-17 15:26:51      Test  \n",
       "2            step_3  2017-04-17 15:19:22   Control  \n",
       "3            step_2  2017-04-17 15:19:13      Test  \n",
       "4            step_3  2017-04-17 15:18:04   Control  \n",
       "...             ...                  ...       ...  \n",
       "403590          NaN                  NaN       NaN  \n",
       "403591          NaN                  NaN       NaN  \n",
       "403592          NaN                  NaN       NaN  \n",
       "403593          NaN                  NaN       NaN  \n",
       "403594          NaN                  NaN       NaN  \n",
       "\n",
       "[403595 rows x 6 columns]"
      ]
     },
     "execution_count": 6,
     "metadata": {},
     "output_type": "execute_result"
    }
   ],
   "source": [
    "df_kpi"
   ]
  },
  {
   "cell_type": "code",
   "execution_count": 7,
   "metadata": {},
   "outputs": [
    {
     "data": {
      "text/plain": [
       "client_id        62549\n",
       "visitor_id       62549\n",
       "visit_id         62549\n",
       "process_step     62549\n",
       "date_time        62549\n",
       "Variation       353095\n",
       "dtype: int64"
      ]
     },
     "execution_count": 7,
     "metadata": {},
     "output_type": "execute_result"
    }
   ],
   "source": [
    "#count how many rows have missing values\n",
    "df_kpi.isnull().sum()"
   ]
  },
  {
   "cell_type": "code",
   "execution_count": 8,
   "metadata": {},
   "outputs": [],
   "source": [
    "#remove missing values\n",
    "df_kpi = df_kpi.dropna()"
   ]
  },
  {
   "cell_type": "markdown",
   "metadata": {},
   "source": [
    "2. EDA\n",
    "\n"
   ]
  },
  {
   "cell_type": "code",
   "execution_count": 9,
   "metadata": {},
   "outputs": [
    {
     "name": "stderr",
     "output_type": "stream",
     "text": [
      "/var/folders/rv/whttr0rs0h71ygvlwqb00mt00000gp/T/ipykernel_51600/1893469820.py:2: SettingWithCopyWarning: \n",
      "A value is trying to be set on a copy of a slice from a DataFrame.\n",
      "Try using .loc[row_indexer,col_indexer] = value instead\n",
      "\n",
      "See the caveats in the documentation: https://pandas.pydata.org/pandas-docs/stable/user_guide/indexing.html#returning-a-view-versus-a-copy\n",
      "  df_kpi['date_time'] = pd.to_datetime(df_kpi['date_time'])\n"
     ]
    }
   ],
   "source": [
    "# Ensure date_time is in datetime format\n",
    "df_kpi['date_time'] = pd.to_datetime(df_kpi['date_time'])\n",
    "\n",
    "# Sort the DataFrame by visit_id and date_time\n",
    "df_kpi = df_kpi.sort_values(by=['visit_id', 'date_time'])\n",
    "\n",
    "# Calculate the time difference between consecutive steps within each visit_id\n",
    "df_kpi['time_diff'] = df_kpi.groupby('visit_id')['date_time'].diff()\n",
    "\n",
    "\n",
    "\n"
   ]
  },
  {
   "cell_type": "code",
   "execution_count": 10,
   "metadata": {},
   "outputs": [
    {
     "data": {
      "text/html": [
       "<div>\n",
       "<style scoped>\n",
       "    .dataframe tbody tr th:only-of-type {\n",
       "        vertical-align: middle;\n",
       "    }\n",
       "\n",
       "    .dataframe tbody tr th {\n",
       "        vertical-align: top;\n",
       "    }\n",
       "\n",
       "    .dataframe thead th {\n",
       "        text-align: right;\n",
       "    }\n",
       "</style>\n",
       "<table border=\"1\" class=\"dataframe\">\n",
       "  <thead>\n",
       "    <tr style=\"text-align: right;\">\n",
       "      <th></th>\n",
       "      <th>client_id</th>\n",
       "      <th>visitor_id</th>\n",
       "      <th>visit_id</th>\n",
       "      <th>process_step</th>\n",
       "      <th>date_time</th>\n",
       "      <th>Variation</th>\n",
       "      <th>time_diff</th>\n",
       "    </tr>\n",
       "  </thead>\n",
       "  <tbody>\n",
       "    <tr>\n",
       "      <th>27351</th>\n",
       "      <td>5623007.0</td>\n",
       "      <td>700426174_33289797318</td>\n",
       "      <td>100037962_47432393712_705583</td>\n",
       "      <td>start</td>\n",
       "      <td>2017-04-14 16:41:51</td>\n",
       "      <td>Test</td>\n",
       "      <td>NaT</td>\n",
       "    </tr>\n",
       "    <tr>\n",
       "      <th>27350</th>\n",
       "      <td>5623007.0</td>\n",
       "      <td>700426174_33289797318</td>\n",
       "      <td>100037962_47432393712_705583</td>\n",
       "      <td>start</td>\n",
       "      <td>2017-04-14 16:43:16</td>\n",
       "      <td>Control</td>\n",
       "      <td>0 days 00:01:25</td>\n",
       "    </tr>\n",
       "    <tr>\n",
       "      <th>27349</th>\n",
       "      <td>5623007.0</td>\n",
       "      <td>700426174_33289797318</td>\n",
       "      <td>100037962_47432393712_705583</td>\n",
       "      <td>step_1</td>\n",
       "      <td>2017-04-14 16:43:55</td>\n",
       "      <td>Control</td>\n",
       "      <td>0 days 00:00:39</td>\n",
       "    </tr>\n",
       "    <tr>\n",
       "      <th>27348</th>\n",
       "      <td>5623007.0</td>\n",
       "      <td>700426174_33289797318</td>\n",
       "      <td>100037962_47432393712_705583</td>\n",
       "      <td>start</td>\n",
       "      <td>2017-04-14 16:44:03</td>\n",
       "      <td>Control</td>\n",
       "      <td>0 days 00:00:08</td>\n",
       "    </tr>\n",
       "    <tr>\n",
       "      <th>1609</th>\n",
       "      <td>4823947.0</td>\n",
       "      <td>611052344_43146965242</td>\n",
       "      <td>100057941_88477660212_944512</td>\n",
       "      <td>start</td>\n",
       "      <td>2017-04-09 11:30:10</td>\n",
       "      <td>Test</td>\n",
       "      <td>NaT</td>\n",
       "    </tr>\n",
       "    <tr>\n",
       "      <th>...</th>\n",
       "      <td>...</td>\n",
       "      <td>...</td>\n",
       "      <td>...</td>\n",
       "      <td>...</td>\n",
       "      <td>...</td>\n",
       "      <td>...</td>\n",
       "      <td>...</td>\n",
       "    </tr>\n",
       "    <tr>\n",
       "      <th>8533</th>\n",
       "      <td>2979920.0</td>\n",
       "      <td>830229399_73416253406</td>\n",
       "      <td>999971096_28827267783_236076</td>\n",
       "      <td>step_1</td>\n",
       "      <td>2017-04-13 10:32:07</td>\n",
       "      <td>Test</td>\n",
       "      <td>0 days 00:00:18</td>\n",
       "    </tr>\n",
       "    <tr>\n",
       "      <th>8532</th>\n",
       "      <td>2979920.0</td>\n",
       "      <td>830229399_73416253406</td>\n",
       "      <td>999971096_28827267783_236076</td>\n",
       "      <td>step_1</td>\n",
       "      <td>2017-04-13 10:32:44</td>\n",
       "      <td>Test</td>\n",
       "      <td>0 days 00:00:37</td>\n",
       "    </tr>\n",
       "    <tr>\n",
       "      <th>8531</th>\n",
       "      <td>2979920.0</td>\n",
       "      <td>830229399_73416253406</td>\n",
       "      <td>999971096_28827267783_236076</td>\n",
       "      <td>step_2</td>\n",
       "      <td>2017-04-13 10:32:53</td>\n",
       "      <td>Control</td>\n",
       "      <td>0 days 00:00:09</td>\n",
       "    </tr>\n",
       "    <tr>\n",
       "      <th>8530</th>\n",
       "      <td>2979920.0</td>\n",
       "      <td>830229399_73416253406</td>\n",
       "      <td>999971096_28827267783_236076</td>\n",
       "      <td>step_3</td>\n",
       "      <td>2017-04-13 10:33:40</td>\n",
       "      <td>Control</td>\n",
       "      <td>0 days 00:00:47</td>\n",
       "    </tr>\n",
       "    <tr>\n",
       "      <th>8529</th>\n",
       "      <td>2979920.0</td>\n",
       "      <td>830229399_73416253406</td>\n",
       "      <td>999971096_28827267783_236076</td>\n",
       "      <td>confirm</td>\n",
       "      <td>2017-04-13 10:34:08</td>\n",
       "      <td>Test</td>\n",
       "      <td>0 days 00:00:28</td>\n",
       "    </tr>\n",
       "  </tbody>\n",
       "</table>\n",
       "<p>50500 rows × 7 columns</p>\n",
       "</div>"
      ],
      "text/plain": [
       "       client_id             visitor_id                      visit_id  \\\n",
       "27351  5623007.0  700426174_33289797318  100037962_47432393712_705583   \n",
       "27350  5623007.0  700426174_33289797318  100037962_47432393712_705583   \n",
       "27349  5623007.0  700426174_33289797318  100037962_47432393712_705583   \n",
       "27348  5623007.0  700426174_33289797318  100037962_47432393712_705583   \n",
       "1609   4823947.0  611052344_43146965242  100057941_88477660212_944512   \n",
       "...          ...                    ...                           ...   \n",
       "8533   2979920.0  830229399_73416253406  999971096_28827267783_236076   \n",
       "8532   2979920.0  830229399_73416253406  999971096_28827267783_236076   \n",
       "8531   2979920.0  830229399_73416253406  999971096_28827267783_236076   \n",
       "8530   2979920.0  830229399_73416253406  999971096_28827267783_236076   \n",
       "8529   2979920.0  830229399_73416253406  999971096_28827267783_236076   \n",
       "\n",
       "      process_step           date_time Variation       time_diff  \n",
       "27351        start 2017-04-14 16:41:51      Test             NaT  \n",
       "27350        start 2017-04-14 16:43:16   Control 0 days 00:01:25  \n",
       "27349       step_1 2017-04-14 16:43:55   Control 0 days 00:00:39  \n",
       "27348        start 2017-04-14 16:44:03   Control 0 days 00:00:08  \n",
       "1609         start 2017-04-09 11:30:10      Test             NaT  \n",
       "...            ...                 ...       ...             ...  \n",
       "8533        step_1 2017-04-13 10:32:07      Test 0 days 00:00:18  \n",
       "8532        step_1 2017-04-13 10:32:44      Test 0 days 00:00:37  \n",
       "8531        step_2 2017-04-13 10:32:53   Control 0 days 00:00:09  \n",
       "8530        step_3 2017-04-13 10:33:40   Control 0 days 00:00:47  \n",
       "8529       confirm 2017-04-13 10:34:08      Test 0 days 00:00:28  \n",
       "\n",
       "[50500 rows x 7 columns]"
      ]
     },
     "execution_count": 10,
     "metadata": {},
     "output_type": "execute_result"
    }
   ],
   "source": [
    "df_kpi"
   ]
  },
  {
   "cell_type": "code",
   "execution_count": 11,
   "metadata": {},
   "outputs": [],
   "source": [
    "#Then average these time differences for each step across all visits\n",
    "df_kpi['avg_time_diff'] = df_kpi.groupby('process_step')['time_diff'].transform('mean')\n"
   ]
  },
  {
   "cell_type": "code",
   "execution_count": 12,
   "metadata": {},
   "outputs": [
    {
     "data": {
      "text/html": [
       "<div>\n",
       "<style scoped>\n",
       "    .dataframe tbody tr th:only-of-type {\n",
       "        vertical-align: middle;\n",
       "    }\n",
       "\n",
       "    .dataframe tbody tr th {\n",
       "        vertical-align: top;\n",
       "    }\n",
       "\n",
       "    .dataframe thead th {\n",
       "        text-align: right;\n",
       "    }\n",
       "</style>\n",
       "<table border=\"1\" class=\"dataframe\">\n",
       "  <thead>\n",
       "    <tr style=\"text-align: right;\">\n",
       "      <th></th>\n",
       "      <th>client_id</th>\n",
       "      <th>visitor_id</th>\n",
       "      <th>visit_id</th>\n",
       "      <th>process_step</th>\n",
       "      <th>date_time</th>\n",
       "      <th>Variation</th>\n",
       "      <th>time_diff</th>\n",
       "      <th>avg_time_diff</th>\n",
       "    </tr>\n",
       "  </thead>\n",
       "  <tbody>\n",
       "    <tr>\n",
       "      <th>27351</th>\n",
       "      <td>5623007.0</td>\n",
       "      <td>700426174_33289797318</td>\n",
       "      <td>100037962_47432393712_705583</td>\n",
       "      <td>start</td>\n",
       "      <td>2017-04-14 16:41:51</td>\n",
       "      <td>Test</td>\n",
       "      <td>NaT</td>\n",
       "      <td>0 days 00:02:51.331135531</td>\n",
       "    </tr>\n",
       "    <tr>\n",
       "      <th>27350</th>\n",
       "      <td>5623007.0</td>\n",
       "      <td>700426174_33289797318</td>\n",
       "      <td>100037962_47432393712_705583</td>\n",
       "      <td>start</td>\n",
       "      <td>2017-04-14 16:43:16</td>\n",
       "      <td>Control</td>\n",
       "      <td>0 days 00:01:25</td>\n",
       "      <td>0 days 00:02:51.331135531</td>\n",
       "    </tr>\n",
       "    <tr>\n",
       "      <th>27349</th>\n",
       "      <td>5623007.0</td>\n",
       "      <td>700426174_33289797318</td>\n",
       "      <td>100037962_47432393712_705583</td>\n",
       "      <td>step_1</td>\n",
       "      <td>2017-04-14 16:43:55</td>\n",
       "      <td>Control</td>\n",
       "      <td>0 days 00:00:39</td>\n",
       "      <td>0 days 00:00:40.423951537</td>\n",
       "    </tr>\n",
       "    <tr>\n",
       "      <th>27348</th>\n",
       "      <td>5623007.0</td>\n",
       "      <td>700426174_33289797318</td>\n",
       "      <td>100037962_47432393712_705583</td>\n",
       "      <td>start</td>\n",
       "      <td>2017-04-14 16:44:03</td>\n",
       "      <td>Control</td>\n",
       "      <td>0 days 00:00:08</td>\n",
       "      <td>0 days 00:02:51.331135531</td>\n",
       "    </tr>\n",
       "    <tr>\n",
       "      <th>1609</th>\n",
       "      <td>4823947.0</td>\n",
       "      <td>611052344_43146965242</td>\n",
       "      <td>100057941_88477660212_944512</td>\n",
       "      <td>start</td>\n",
       "      <td>2017-04-09 11:30:10</td>\n",
       "      <td>Test</td>\n",
       "      <td>NaT</td>\n",
       "      <td>0 days 00:02:51.331135531</td>\n",
       "    </tr>\n",
       "    <tr>\n",
       "      <th>...</th>\n",
       "      <td>...</td>\n",
       "      <td>...</td>\n",
       "      <td>...</td>\n",
       "      <td>...</td>\n",
       "      <td>...</td>\n",
       "      <td>...</td>\n",
       "      <td>...</td>\n",
       "      <td>...</td>\n",
       "    </tr>\n",
       "    <tr>\n",
       "      <th>8533</th>\n",
       "      <td>2979920.0</td>\n",
       "      <td>830229399_73416253406</td>\n",
       "      <td>999971096_28827267783_236076</td>\n",
       "      <td>step_1</td>\n",
       "      <td>2017-04-13 10:32:07</td>\n",
       "      <td>Test</td>\n",
       "      <td>0 days 00:00:18</td>\n",
       "      <td>0 days 00:00:40.423951537</td>\n",
       "    </tr>\n",
       "    <tr>\n",
       "      <th>8532</th>\n",
       "      <td>2979920.0</td>\n",
       "      <td>830229399_73416253406</td>\n",
       "      <td>999971096_28827267783_236076</td>\n",
       "      <td>step_1</td>\n",
       "      <td>2017-04-13 10:32:44</td>\n",
       "      <td>Test</td>\n",
       "      <td>0 days 00:00:37</td>\n",
       "      <td>0 days 00:00:40.423951537</td>\n",
       "    </tr>\n",
       "    <tr>\n",
       "      <th>8531</th>\n",
       "      <td>2979920.0</td>\n",
       "      <td>830229399_73416253406</td>\n",
       "      <td>999971096_28827267783_236076</td>\n",
       "      <td>step_2</td>\n",
       "      <td>2017-04-13 10:32:53</td>\n",
       "      <td>Control</td>\n",
       "      <td>0 days 00:00:09</td>\n",
       "      <td>0 days 00:00:43.173280857</td>\n",
       "    </tr>\n",
       "    <tr>\n",
       "      <th>8530</th>\n",
       "      <td>2979920.0</td>\n",
       "      <td>830229399_73416253406</td>\n",
       "      <td>999971096_28827267783_236076</td>\n",
       "      <td>step_3</td>\n",
       "      <td>2017-04-13 10:33:40</td>\n",
       "      <td>Control</td>\n",
       "      <td>0 days 00:00:47</td>\n",
       "      <td>0 days 00:01:33.755428571</td>\n",
       "    </tr>\n",
       "    <tr>\n",
       "      <th>8529</th>\n",
       "      <td>2979920.0</td>\n",
       "      <td>830229399_73416253406</td>\n",
       "      <td>999971096_28827267783_236076</td>\n",
       "      <td>confirm</td>\n",
       "      <td>2017-04-13 10:34:08</td>\n",
       "      <td>Test</td>\n",
       "      <td>0 days 00:00:28</td>\n",
       "      <td>0 days 00:02:08.326948051</td>\n",
       "    </tr>\n",
       "  </tbody>\n",
       "</table>\n",
       "<p>50500 rows × 8 columns</p>\n",
       "</div>"
      ],
      "text/plain": [
       "       client_id             visitor_id                      visit_id  \\\n",
       "27351  5623007.0  700426174_33289797318  100037962_47432393712_705583   \n",
       "27350  5623007.0  700426174_33289797318  100037962_47432393712_705583   \n",
       "27349  5623007.0  700426174_33289797318  100037962_47432393712_705583   \n",
       "27348  5623007.0  700426174_33289797318  100037962_47432393712_705583   \n",
       "1609   4823947.0  611052344_43146965242  100057941_88477660212_944512   \n",
       "...          ...                    ...                           ...   \n",
       "8533   2979920.0  830229399_73416253406  999971096_28827267783_236076   \n",
       "8532   2979920.0  830229399_73416253406  999971096_28827267783_236076   \n",
       "8531   2979920.0  830229399_73416253406  999971096_28827267783_236076   \n",
       "8530   2979920.0  830229399_73416253406  999971096_28827267783_236076   \n",
       "8529   2979920.0  830229399_73416253406  999971096_28827267783_236076   \n",
       "\n",
       "      process_step           date_time Variation       time_diff  \\\n",
       "27351        start 2017-04-14 16:41:51      Test             NaT   \n",
       "27350        start 2017-04-14 16:43:16   Control 0 days 00:01:25   \n",
       "27349       step_1 2017-04-14 16:43:55   Control 0 days 00:00:39   \n",
       "27348        start 2017-04-14 16:44:03   Control 0 days 00:00:08   \n",
       "1609         start 2017-04-09 11:30:10      Test             NaT   \n",
       "...            ...                 ...       ...             ...   \n",
       "8533        step_1 2017-04-13 10:32:07      Test 0 days 00:00:18   \n",
       "8532        step_1 2017-04-13 10:32:44      Test 0 days 00:00:37   \n",
       "8531        step_2 2017-04-13 10:32:53   Control 0 days 00:00:09   \n",
       "8530        step_3 2017-04-13 10:33:40   Control 0 days 00:00:47   \n",
       "8529       confirm 2017-04-13 10:34:08      Test 0 days 00:00:28   \n",
       "\n",
       "                  avg_time_diff  \n",
       "27351 0 days 00:02:51.331135531  \n",
       "27350 0 days 00:02:51.331135531  \n",
       "27349 0 days 00:00:40.423951537  \n",
       "27348 0 days 00:02:51.331135531  \n",
       "1609  0 days 00:02:51.331135531  \n",
       "...                         ...  \n",
       "8533  0 days 00:00:40.423951537  \n",
       "8532  0 days 00:00:40.423951537  \n",
       "8531  0 days 00:00:43.173280857  \n",
       "8530  0 days 00:01:33.755428571  \n",
       "8529  0 days 00:02:08.326948051  \n",
       "\n",
       "[50500 rows x 8 columns]"
      ]
     },
     "execution_count": 12,
     "metadata": {},
     "output_type": "execute_result"
    }
   ],
   "source": [
    "df_kpi"
   ]
  },
  {
   "cell_type": "code",
   "execution_count": 13,
   "metadata": {},
   "outputs": [
    {
     "data": {
      "image/png": "[encoded data removed]",
      "text/plain": [
       "<Figure size 1500x1000 with 1 Axes>"
      ]
     },
     "metadata": {},
     "output_type": "display_data"
    }
   ],
   "source": [
    "#plot the average time difference for each step\n",
    "sns.set_theme(style=\"whitegrid\")\n",
    "plt.figure(figsize=(15, 10))\n",
    "sns.barplot(x='process_step', y='avg_time_diff', data=df_kpi)\n",
    "plt.title('Average Time Difference for Each Step')\n",
    "plt.xlabel('Process Step')\n",
    "plt.ylabel('Average Time Difference')\n",
    "plt.xticks(rotation=45)\n",
    "plt.show()\n"
   ]
  },
  {
   "cell_type": "code",
   "execution_count": 14,
   "metadata": {},
   "outputs": [
    {
     "data": {
      "image/png": "[encoded data removed]",
      "text/plain": [
       "<Figure size 1500x1000 with 1 Axes>"
      ]
     },
     "metadata": {},
     "output_type": "display_data"
    }
   ],
   "source": [
    "#plot by variation and process step\n",
    "plt.figure(figsize=(15, 10))\n",
    "sns.barplot(x='process_step', y='avg_time_diff', hue='Variation', data=df_kpi)\n",
    "plt.title('Average Time Difference for Each Step by Variation')\n",
    "plt.xlabel('Process Step')\n",
    "plt.ylabel('Average Time Difference')\n",
    "plt.xticks(rotation=45)\n",
    "plt.show()\n"
   ]
  },
  {
   "cell_type": "code",
   "execution_count": 15,
   "metadata": {},
   "outputs": [
    {
     "data": {
      "text/plain": [
       "Test       26968\n",
       "Control    23532\n",
       "Name: Variation, dtype: int64"
      ]
     },
     "execution_count": 15,
     "metadata": {},
     "output_type": "execute_result"
    }
   ],
   "source": [
    "#variation column number of values\n",
    "df_kpi['Variation'].value_counts()"
   ]
  },
  {
   "cell_type": "code",
   "execution_count": 16,
   "metadata": {},
   "outputs": [],
   "source": [
    "#group the dataframe by test and control variation\n",
    "df_kpi_grouped = df_kpi.groupby('Variation').agg({'avg_time_diff': 'mean'}).reset_index()"
   ]
  },
  {
   "cell_type": "code",
   "execution_count": 17,
   "metadata": {},
   "outputs": [
    {
     "data": {
      "text/html": [
       "<div>\n",
       "<style scoped>\n",
       "    .dataframe tbody tr th:only-of-type {\n",
       "        vertical-align: middle;\n",
       "    }\n",
       "\n",
       "    .dataframe tbody tr th {\n",
       "        vertical-align: top;\n",
       "    }\n",
       "\n",
       "    .dataframe thead th {\n",
       "        text-align: right;\n",
       "    }\n",
       "</style>\n",
       "<table border=\"1\" class=\"dataframe\">\n",
       "  <thead>\n",
       "    <tr style=\"text-align: right;\">\n",
       "      <th></th>\n",
       "      <th>Variation</th>\n",
       "      <th>avg_time_diff</th>\n",
       "    </tr>\n",
       "  </thead>\n",
       "  <tbody>\n",
       "    <tr>\n",
       "      <th>0</th>\n",
       "      <td>Control</td>\n",
       "      <td>0 days 00:01:42.141989376</td>\n",
       "    </tr>\n",
       "    <tr>\n",
       "      <th>1</th>\n",
       "      <td>Test</td>\n",
       "      <td>0 days 00:01:41.912672861</td>\n",
       "    </tr>\n",
       "  </tbody>\n",
       "</table>\n",
       "</div>"
      ],
      "text/plain": [
       "  Variation             avg_time_diff\n",
       "0   Control 0 days 00:01:42.141989376\n",
       "1      Test 0 days 00:01:41.912672861"
      ]
     },
     "execution_count": 17,
     "metadata": {},
     "output_type": "execute_result"
    }
   ],
   "source": [
    "df_kpi_grouped"
   ]
  },
  {
   "cell_type": "code",
   "execution_count": 18,
   "metadata": {},
   "outputs": [
    {
     "data": {
      "image/png": "[encoded data removed]",
      "text/plain": [
       "<Figure size 1000x500 with 1 Axes>"
      ]
     },
     "metadata": {},
     "output_type": "display_data"
    }
   ],
   "source": [
    "#plot the average time difference for each variation\n",
    "plt.figure(figsize=(10, 5))\n",
    "sns.barplot(x='Variation', y='avg_time_diff', data=df_kpi_grouped)\n",
    "plt.title('Average Time Difference for Each Variation')\n",
    "plt.xlabel('Variation')\n",
    "plt.ylabel('Average Time Difference')\n",
    "plt.show()\n"
   ]
  },
  {
   "cell_type": "markdown",
   "metadata": {},
   "source": [
    "Save Time spent on each step in a file :"
   ]
  },
  {
   "cell_type": "code",
   "execution_count": 19,
   "metadata": {},
   "outputs": [],
   "source": [
    "df_kpi_grouped.to_csv('../Data/time_spent_on_each_step.csv', index=False)"
   ]
  }
 ],
 "metadata": {
  "kernelspec": {
   "display_name": "vanguard",
   "language": "python",
   "name": "python3"
  },
  "language_info": {
   "codemirror_mode": {
    "name": "ipython",
    "version": 3
   },
   "file_extension": ".py",
   "mimetype": "text/x-python",
   "name": "python",
   "nbconvert_exporter": "python",
   "pygments_lexer": "ipython3",
   "version": "3.9.6"
  }
 },
 "nbformat": 4,
 "nbformat_minor": 2
}
