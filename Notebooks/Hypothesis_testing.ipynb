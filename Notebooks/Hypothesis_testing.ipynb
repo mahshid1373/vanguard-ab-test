{
 "cells": [
  {
   "cell_type": "markdown",
   "metadata": {},
   "source": [
    "# Hypothesis Testing\n",
    "------------------------------------------------------------------------------------------------------------------------------------\n",
    "------------------------------------------------------------------------------------------------------------------------------------\n",
    "------------------------------------------------------------------------------------------------------------------------------------"
   ]
  },
  {
   "cell_type": "markdown",
   "metadata": {},
   "source": [
    "# completion rates KPI"
   ]
  },
  {
   "cell_type": "markdown",
   "metadata": {},
   "source": [
    "To determine if the difference in completion rates between the new design (Test) and the old design (Control) is statistically significant, we can conduct a hypothesis test. Specifically, we'll use a two-proportion z-test.\n",
    "\n"
   ]
  },
  {
   "cell_type": "markdown",
   "metadata": {},
   "source": [
    "## Load Dataset:"
   ]
  },
  {
   "cell_type": "code",
   "execution_count": 12,
   "metadata": {},
   "outputs": [],
   "source": [
    "import pandas as pd\n",
    "import numpy as np\n",
    "from statsmodels.stats.proportion import proportions_ztest\n"
   ]
  },
  {
   "cell_type": "code",
   "execution_count": 36,
   "metadata": {},
   "outputs": [
    {
     "data": {
      "text/html": [
       "<div>\n",
       "<style scoped>\n",
       "    .dataframe tbody tr th:only-of-type {\n",
       "        vertical-align: middle;\n",
       "    }\n",
       "\n",
       "    .dataframe tbody tr th {\n",
       "        vertical-align: top;\n",
       "    }\n",
       "\n",
       "    .dataframe thead th {\n",
       "        text-align: right;\n",
       "    }\n",
       "</style>\n",
       "<table border=\"1\" class=\"dataframe\">\n",
       "  <thead>\n",
       "    <tr style=\"text-align: right;\">\n",
       "      <th></th>\n",
       "      <th>Variation</th>\n",
       "      <th>confirm_count</th>\n",
       "      <th>total_users</th>\n",
       "      <th>completion_rate</th>\n",
       "    </tr>\n",
       "  </thead>\n",
       "  <tbody>\n",
       "    <tr>\n",
       "      <th>0</th>\n",
       "      <td>Control</td>\n",
       "      <td>2879</td>\n",
       "      <td>8252</td>\n",
       "      <td>0.348885</td>\n",
       "    </tr>\n",
       "    <tr>\n",
       "      <th>1</th>\n",
       "      <td>Test</td>\n",
       "      <td>3119</td>\n",
       "      <td>8535</td>\n",
       "      <td>0.365436</td>\n",
       "    </tr>\n",
       "  </tbody>\n",
       "</table>\n",
       "</div>"
      ],
      "text/plain": [
       "  Variation  confirm_count  total_users  completion_rate\n",
       "0   Control           2879         8252         0.348885\n",
       "1      Test           3119         8535         0.365436"
      ]
     },
     "execution_count": 36,
     "metadata": {},
     "output_type": "execute_result"
    }
   ],
   "source": [
    "completion_rate_df = pd.read_csv('../Data/completion_rates.csv')\n",
    "completion_rate_df"
   ]
  },
  {
   "cell_type": "markdown",
   "metadata": {},
   "source": [
    "The steps for Hypothesis Testing are as follows:"
   ]
  },
  {
   "cell_type": "markdown",
   "metadata": {},
   "source": [
    "## Define the hypotheses:\n",
    "\n",
    "1- Null hypothesis ($H_0$): The completion rates for the Test and Control groups are the same.\n",
    "\n",
    "2- Alternative hypothesis ($H_1$): The completion rate for the Test group is greater than that for the Control group."
   ]
  },
  {
   "cell_type": "markdown",
   "metadata": {},
   "source": [
    "## Calculate the Sample Proportions:\n",
    "\n",
    "- $p_1$= completion rate of the Test group.\n",
    "\n",
    "- $p_2$= completion rate of the Control group."
   ]
  },
  {
   "cell_type": "code",
   "execution_count": 4,
   "metadata": {},
   "outputs": [],
   "source": [
    "# Completion rates data\n",
    "completion_test = completion_rate_df[completion_rate_df['Variation'] == 'Test']\n",
    "completion_control = completion_rate_df[completion_rate_df['Variation'] == 'Control']"
   ]
  },
  {
   "cell_type": "markdown",
   "metadata": {},
   "source": [
    "## Calculate the Pooled Proportion and Standard Error:\n",
    "\n",
    "- Pooled Proportion $p_{pool}$:\n",
    "\n",
    "$p_{pool} = \\frac{X_1 + X_2}{n_1 + n_2}$\n",
    "\n",
    "Where $X_1$ and $X_2$ are the number of successes (completions) in the Test and Control groups, and $n_1$ and $n_2$ are the sample sizes.\n",
    "\n",
    "Standard Error $SE$:\n",
    "\n",
    "$SE = \\sqrt{p_{pool} * (1 - p_{pool} ) * (1/n_1 + 1/n_2)}$"
   ]
  },
  {
   "cell_type": "code",
   "execution_count": 8,
   "metadata": {},
   "outputs": [
    {
     "name": "stdout",
     "output_type": "stream",
     "text": [
      "X1: 3119     n1: 8535     X2: 2879     n2: 8252\n"
     ]
    }
   ],
   "source": [
    "# Number of completions and total users in each group\n",
    "X1 = completion_test['confirm_count'].values[0]\n",
    "n1 = completion_test['total_users'].values[0]\n",
    "X2 = completion_control['confirm_count'].values[0]\n",
    "n2 = completion_control['total_users'].values[0]\n",
    "\n",
    "print(f\"X1: {X1}     n1: {n1}     X2: {X2}     n2: {n2}\")"
   ]
  },
  {
   "cell_type": "markdown",
   "metadata": {},
   "source": [
    "## Calculate the Z-score:\n",
    "\n",
    "$Z = \\frac{p_1 - p_2}{SE}$"
   ]
  },
  {
   "cell_type": "markdown",
   "metadata": {},
   "source": [
    "## Calculate the P-value:\n",
    "\n",
    "Using the Z-score, we can determine the P-value to see if the observed difference is statistically significant."
   ]
  },
  {
   "cell_type": "code",
   "execution_count": 14,
   "metadata": {},
   "outputs": [
    {
     "data": {
      "text/plain": [
       "(2.2372097886733453, 0.025272631894062626)"
      ]
     },
     "execution_count": 14,
     "metadata": {},
     "output_type": "execute_result"
    }
   ],
   "source": [
    "# Calculate the z-score and p-value\n",
    "count = np.array([X1, X2])\n",
    "nobs = np.array([n1, n2])\n",
    "z_score, p_value = proportions_ztest(count, nobs, alternative='two-sided')\n",
    "\n",
    "z_score, p_value"
   ]
  },
  {
   "cell_type": "markdown",
   "metadata": {},
   "source": [
    "## Compare with Significance Level:\n",
    "\n",
    "Typically, a $5 $% significance level ($α = 0.05$) is used. If P-value $< 0.05$, we reject the null hypothesis. So the  P-value is about $0.02$. We **reject the null hypothesis** and conclude that **there is a statistically significant difference in completion rates between the Test and Control groups**. The observed increase in completion rate from the A/B test meets or exceeds the 5% threshold for significance."
   ]
  },
  {
   "cell_type": "markdown",
   "metadata": {},
   "source": [
    "------------------------------------------------------------------------------------------------------------------------------------\n",
    "------------------------------------------------------------------------------------------------------------------------------------\n",
    "------------------------------------------------------------------------------------------------------------------------------------"
   ]
  },
  {
   "cell_type": "markdown",
   "metadata": {},
   "source": [
    "# Carried out another hypothesis test of your choosing"
   ]
  },
  {
   "cell_type": "markdown",
   "metadata": {},
   "source": [
    "We try to do the same hypothesis Testing for Error rate data"
   ]
  },
  {
   "cell_type": "markdown",
   "metadata": {},
   "source": [
    "## Load Dataset:"
   ]
  },
  {
   "cell_type": "code",
   "execution_count": 35,
   "metadata": {},
   "outputs": [
    {
     "data": {
      "text/html": [
       "<div>\n",
       "<style scoped>\n",
       "    .dataframe tbody tr th:only-of-type {\n",
       "        vertical-align: middle;\n",
       "    }\n",
       "\n",
       "    .dataframe tbody tr th {\n",
       "        vertical-align: top;\n",
       "    }\n",
       "\n",
       "    .dataframe thead th {\n",
       "        text-align: right;\n",
       "    }\n",
       "</style>\n",
       "<table border=\"1\" class=\"dataframe\">\n",
       "  <thead>\n",
       "    <tr style=\"text-align: right;\">\n",
       "      <th></th>\n",
       "      <th>Variation</th>\n",
       "      <th>total_steps</th>\n",
       "      <th>error_steps</th>\n",
       "      <th>error_rate</th>\n",
       "    </tr>\n",
       "  </thead>\n",
       "  <tbody>\n",
       "    <tr>\n",
       "      <th>0</th>\n",
       "      <td>Control</td>\n",
       "      <td>23532</td>\n",
       "      <td>2272</td>\n",
       "      <td>0.096549</td>\n",
       "    </tr>\n",
       "    <tr>\n",
       "      <th>1</th>\n",
       "      <td>Test</td>\n",
       "      <td>26968</td>\n",
       "      <td>2647</td>\n",
       "      <td>0.098153</td>\n",
       "    </tr>\n",
       "  </tbody>\n",
       "</table>\n",
       "</div>"
      ],
      "text/plain": [
       "  Variation  total_steps  error_steps  error_rate\n",
       "0   Control        23532         2272    0.096549\n",
       "1      Test        26968         2647    0.098153"
      ]
     },
     "execution_count": 35,
     "metadata": {},
     "output_type": "execute_result"
    }
   ],
   "source": [
    "error_rate_df = pd.read_csv('../Data/error_rates.csv')\n",
    "error_rate_df"
   ]
  },
  {
   "cell_type": "markdown",
   "metadata": {},
   "source": [
    "The steps for Hypothesis Testing are as follows:"
   ]
  },
  {
   "cell_type": "markdown",
   "metadata": {},
   "source": [
    "## Define the hypotheses:\n",
    "\n",
    "1- Null hypothesis ($H_0$): The error rates for the Test and Control groups are the same.\n",
    "\n",
    "2- Alternative hypothesis ($H_1$): The error rate for the Test group is greater than that for the Control group."
   ]
  },
  {
   "cell_type": "markdown",
   "metadata": {},
   "source": [
    "## Calculate the Sample Proportions:\n",
    "\n",
    "- $p_1$= error rate of the Test group.\n",
    "\n",
    "- $p_2$= error rate of the Control group."
   ]
  },
  {
   "cell_type": "code",
   "execution_count": 37,
   "metadata": {},
   "outputs": [],
   "source": [
    "# Completion rates data\n",
    "error_test = error_rate_df[error_rate_df['Variation'] == 'Test']\n",
    "error_control = error_rate_df[error_rate_df['Variation'] == 'Control']"
   ]
  },
  {
   "cell_type": "markdown",
   "metadata": {},
   "source": [
    "## Calculate the Pooled Proportion and Standard Error:\n",
    "\n",
    "- Pooled Proportion $p_{pool}$:\n",
    "\n",
    "$p_{pool} = \\frac{X_1 + X_2}{n_1 + n_2}$\n",
    "\n",
    "Where $X_1$ and $X_2$ are the number of errors (backwarding in steps) in the Test and Control groups, and $n_1$ and $n_2$ are the sample sizes.\n",
    "\n",
    "Standard Error $SE$:\n",
    "\n",
    "$SE = \\sqrt{p_{pool} * (1 - p_{pool} ) * (1/n_1 + 1/n_2)}$"
   ]
  },
  {
   "cell_type": "code",
   "execution_count": 39,
   "metadata": {},
   "outputs": [
    {
     "name": "stdout",
     "output_type": "stream",
     "text": [
      "X1: 2647     n1: 26968     X2: 2272     n2: 23532\n"
     ]
    }
   ],
   "source": [
    "# Number of completions and total users in each group\n",
    "X1 = error_test['error_steps'].values[0]\n",
    "n1 = error_test['total_steps'].values[0]\n",
    "X2 = error_control['error_steps'].values[0]\n",
    "n2 = error_control['total_steps'].values[0]\n",
    "\n",
    "print(f\"X1: {X1}     n1: {n1}     X2: {X2}     n2: {n2}\")"
   ]
  },
  {
   "cell_type": "markdown",
   "metadata": {},
   "source": [
    "## Calculate the Z-score:\n",
    "\n",
    "$Z = \\frac{p_1 - p_2}{SE}$"
   ]
  },
  {
   "cell_type": "markdown",
   "metadata": {},
   "source": [
    "## Calculate the P-value:\n",
    "\n",
    "Using the Z-score, we can determine the P-value to see if the observed difference is statistically significant."
   ]
  },
  {
   "cell_type": "code",
   "execution_count": 40,
   "metadata": {},
   "outputs": [
    {
     "data": {
      "text/plain": [
       "(0.6064152178981506, 0.5442390656402112)"
      ]
     },
     "execution_count": 40,
     "metadata": {},
     "output_type": "execute_result"
    }
   ],
   "source": [
    "# Calculate the z-score and p-value\n",
    "count = np.array([X1, X2])\n",
    "nobs = np.array([n1, n2])\n",
    "z_score, p_value = proportions_ztest(count, nobs, alternative='two-sided')\n",
    "\n",
    "z_score, p_value"
   ]
  },
  {
   "cell_type": "markdown",
   "metadata": {},
   "source": [
    "## Compare with Significance Level:\n",
    "\n",
    "Typically, a $5 $% significance level ($α = 0.05$) is used. If P-value $< 0.05$, we reject the null hypothesis. So the  P-value is about $0.54$. We **accept the null hypothesis** and conclude that **there is not a statistically significant difference in error rates between the Test and Control groups**. The observed increase in error rate from the A/B test meets or exceeds the 5% threshold for significance."
   ]
  },
  {
   "cell_type": "markdown",
   "metadata": {},
   "source": [
    "------------------------------------------------------------------------------------------------------------------------------------\n",
    "------------------------------------------------------------------------------------------------------------------------------------\n",
    "------------------------------------------------------------------------------------------------------------------------------------"
   ]
  }
 ],
 "metadata": {
  "kernelspec": {
   "display_name": "Python 3",
   "language": "python",
   "name": "python3"
  },
  "language_info": {
   "codemirror_mode": {
    "name": "ipython",
    "version": 3
   },
   "file_extension": ".py",
   "mimetype": "text/x-python",
   "name": "python",
   "nbconvert_exporter": "python",
   "pygments_lexer": "ipython3",
   "version": "3.9.6"
  }
 },
 "nbformat": 4,
 "nbformat_minor": 2
}
