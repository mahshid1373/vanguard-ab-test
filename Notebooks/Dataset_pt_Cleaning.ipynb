{
 "cells": [
  {
   "cell_type": "markdown",
   "metadata": {},
   "source": [
    "# Initial Steps for Data Analysis\n",
    "\n",
    "The initial steps for data analysis in Python include:\n",
    "\n",
    "1. **Data Acquisition:** This involves gathering data from various sources such as local files, databases, APIs, websites, etc.\n",
    " \n",
    "2. **Loading the Data:** Common formats to consider are CSV (Comma Separated Values), JSON, XLS, HTML, XML, and more.\n",
    "\n",
    "3. **Exploratory Data Analysis (EDA):** EDA is a systematic approach to initial data inspection. It leverages **descriptive analysis** techniques to understand the data better, identify outliers, highlight significant variables, and generally uncover underlying data patterns. Additionally, EDA helps in organizing the data, spotting errors, and assessing missing values.\n",
    "\n",
    "4. **Data Cleaning:** It's crucial to check the available data and perform tasks such as removing empty columns, standardizing terms, imputing missing data where appropriate, and more.\n",
    "\n",
    "5. After cleaning, you should conduct a more **in-depth Exploratory Data Analysis** to further understand the data."
   ]
  },
  {
   "cell_type": "markdown",
   "metadata": {},
   "source": [
    "# Data Acquisition and Loading the Data\n",
    "Load the datasets"
   ]
  },
  {
   "cell_type": "code",
   "execution_count": 3,
   "metadata": {},
   "outputs": [],
   "source": [
    "import pandas as pd\n",
    "import seaborn as sns\n",
    "import matplotlib.pyplot as plt\n"
   ]
  },
  {
   "cell_type": "code",
   "execution_count": 4,
   "metadata": {},
   "outputs": [],
   "source": [
    "pt_1 = pd.read_csv('../Data/df_final_web_data_pt_1.txt')\n",
    "pt_2 = pd.read_csv('../Data/df_final_web_data_pt_2.txt')"
   ]
  },
  {
   "cell_type": "code",
   "execution_count": 5,
   "metadata": {},
   "outputs": [
    {
     "data": {
      "text/html": [
       "<div>\n",
       "<style scoped>\n",
       "    .dataframe tbody tr th:only-of-type {\n",
       "        vertical-align: middle;\n",
       "    }\n",
       "\n",
       "    .dataframe tbody tr th {\n",
       "        vertical-align: top;\n",
       "    }\n",
       "\n",
       "    .dataframe thead th {\n",
       "        text-align: right;\n",
       "    }\n",
       "</style>\n",
       "<table border=\"1\" class=\"dataframe\">\n",
       "  <thead>\n",
       "    <tr style=\"text-align: right;\">\n",
       "      <th></th>\n",
       "      <th>client_id</th>\n",
       "      <th>visitor_id</th>\n",
       "      <th>visit_id</th>\n",
       "      <th>process_step</th>\n",
       "      <th>date_time</th>\n",
       "    </tr>\n",
       "  </thead>\n",
       "  <tbody>\n",
       "    <tr>\n",
       "      <th>0</th>\n",
       "      <td>9988021</td>\n",
       "      <td>580560515_7732621733</td>\n",
       "      <td>781255054_21935453173_531117</td>\n",
       "      <td>step_3</td>\n",
       "      <td>2017-04-17 15:27:07</td>\n",
       "    </tr>\n",
       "    <tr>\n",
       "      <th>1</th>\n",
       "      <td>9988021</td>\n",
       "      <td>580560515_7732621733</td>\n",
       "      <td>781255054_21935453173_531117</td>\n",
       "      <td>step_2</td>\n",
       "      <td>2017-04-17 15:26:51</td>\n",
       "    </tr>\n",
       "    <tr>\n",
       "      <th>2</th>\n",
       "      <td>9988021</td>\n",
       "      <td>580560515_7732621733</td>\n",
       "      <td>781255054_21935453173_531117</td>\n",
       "      <td>step_3</td>\n",
       "      <td>2017-04-17 15:19:22</td>\n",
       "    </tr>\n",
       "    <tr>\n",
       "      <th>3</th>\n",
       "      <td>9988021</td>\n",
       "      <td>580560515_7732621733</td>\n",
       "      <td>781255054_21935453173_531117</td>\n",
       "      <td>step_2</td>\n",
       "      <td>2017-04-17 15:19:13</td>\n",
       "    </tr>\n",
       "    <tr>\n",
       "      <th>4</th>\n",
       "      <td>9988021</td>\n",
       "      <td>580560515_7732621733</td>\n",
       "      <td>781255054_21935453173_531117</td>\n",
       "      <td>step_3</td>\n",
       "      <td>2017-04-17 15:18:04</td>\n",
       "    </tr>\n",
       "    <tr>\n",
       "      <th>...</th>\n",
       "      <td>...</td>\n",
       "      <td>...</td>\n",
       "      <td>...</td>\n",
       "      <td>...</td>\n",
       "      <td>...</td>\n",
       "    </tr>\n",
       "    <tr>\n",
       "      <th>343136</th>\n",
       "      <td>2443347</td>\n",
       "      <td>465784886_73090545671</td>\n",
       "      <td>136329900_10529659391_316129</td>\n",
       "      <td>confirm</td>\n",
       "      <td>2017-03-31 15:15:46</td>\n",
       "    </tr>\n",
       "    <tr>\n",
       "      <th>343137</th>\n",
       "      <td>2443347</td>\n",
       "      <td>465784886_73090545671</td>\n",
       "      <td>136329900_10529659391_316129</td>\n",
       "      <td>step_3</td>\n",
       "      <td>2017-03-31 15:14:53</td>\n",
       "    </tr>\n",
       "    <tr>\n",
       "      <th>343138</th>\n",
       "      <td>2443347</td>\n",
       "      <td>465784886_73090545671</td>\n",
       "      <td>136329900_10529659391_316129</td>\n",
       "      <td>step_2</td>\n",
       "      <td>2017-03-31 15:12:08</td>\n",
       "    </tr>\n",
       "    <tr>\n",
       "      <th>343139</th>\n",
       "      <td>2443347</td>\n",
       "      <td>465784886_73090545671</td>\n",
       "      <td>136329900_10529659391_316129</td>\n",
       "      <td>step_1</td>\n",
       "      <td>2017-03-31 15:11:37</td>\n",
       "    </tr>\n",
       "    <tr>\n",
       "      <th>343140</th>\n",
       "      <td>2443347</td>\n",
       "      <td>465784886_73090545671</td>\n",
       "      <td>136329900_10529659391_316129</td>\n",
       "      <td>start</td>\n",
       "      <td>2017-03-31 15:10:47</td>\n",
       "    </tr>\n",
       "  </tbody>\n",
       "</table>\n",
       "<p>343141 rows × 5 columns</p>\n",
       "</div>"
      ],
      "text/plain": [
       "        client_id             visitor_id                      visit_id  \\\n",
       "0         9988021   580560515_7732621733  781255054_21935453173_531117   \n",
       "1         9988021   580560515_7732621733  781255054_21935453173_531117   \n",
       "2         9988021   580560515_7732621733  781255054_21935453173_531117   \n",
       "3         9988021   580560515_7732621733  781255054_21935453173_531117   \n",
       "4         9988021   580560515_7732621733  781255054_21935453173_531117   \n",
       "...           ...                    ...                           ...   \n",
       "343136    2443347  465784886_73090545671  136329900_10529659391_316129   \n",
       "343137    2443347  465784886_73090545671  136329900_10529659391_316129   \n",
       "343138    2443347  465784886_73090545671  136329900_10529659391_316129   \n",
       "343139    2443347  465784886_73090545671  136329900_10529659391_316129   \n",
       "343140    2443347  465784886_73090545671  136329900_10529659391_316129   \n",
       "\n",
       "       process_step            date_time  \n",
       "0            step_3  2017-04-17 15:27:07  \n",
       "1            step_2  2017-04-17 15:26:51  \n",
       "2            step_3  2017-04-17 15:19:22  \n",
       "3            step_2  2017-04-17 15:19:13  \n",
       "4            step_3  2017-04-17 15:18:04  \n",
       "...             ...                  ...  \n",
       "343136      confirm  2017-03-31 15:15:46  \n",
       "343137       step_3  2017-03-31 15:14:53  \n",
       "343138       step_2  2017-03-31 15:12:08  \n",
       "343139       step_1  2017-03-31 15:11:37  \n",
       "343140        start  2017-03-31 15:10:47  \n",
       "\n",
       "[343141 rows x 5 columns]"
      ]
     },
     "execution_count": 5,
     "metadata": {},
     "output_type": "execute_result"
    }
   ],
   "source": [
    "pt_1"
   ]
  },
  {
   "cell_type": "code",
   "execution_count": 6,
   "metadata": {},
   "outputs": [
    {
     "data": {
      "text/html": [
       "<div>\n",
       "<style scoped>\n",
       "    .dataframe tbody tr th:only-of-type {\n",
       "        vertical-align: middle;\n",
       "    }\n",
       "\n",
       "    .dataframe tbody tr th {\n",
       "        vertical-align: top;\n",
       "    }\n",
       "\n",
       "    .dataframe thead th {\n",
       "        text-align: right;\n",
       "    }\n",
       "</style>\n",
       "<table border=\"1\" class=\"dataframe\">\n",
       "  <thead>\n",
       "    <tr style=\"text-align: right;\">\n",
       "      <th></th>\n",
       "      <th>client_id</th>\n",
       "      <th>visitor_id</th>\n",
       "      <th>visit_id</th>\n",
       "      <th>process_step</th>\n",
       "      <th>date_time</th>\n",
       "    </tr>\n",
       "  </thead>\n",
       "  <tbody>\n",
       "    <tr>\n",
       "      <th>0</th>\n",
       "      <td>763412</td>\n",
       "      <td>601952081_10457207388</td>\n",
       "      <td>397475557_40440946728_419634</td>\n",
       "      <td>confirm</td>\n",
       "      <td>2017-06-06 08:56:00</td>\n",
       "    </tr>\n",
       "    <tr>\n",
       "      <th>1</th>\n",
       "      <td>6019349</td>\n",
       "      <td>442094451_91531546617</td>\n",
       "      <td>154620534_35331068705_522317</td>\n",
       "      <td>confirm</td>\n",
       "      <td>2017-06-01 11:59:27</td>\n",
       "    </tr>\n",
       "    <tr>\n",
       "      <th>2</th>\n",
       "      <td>6019349</td>\n",
       "      <td>442094451_91531546617</td>\n",
       "      <td>154620534_35331068705_522317</td>\n",
       "      <td>step_3</td>\n",
       "      <td>2017-06-01 11:58:48</td>\n",
       "    </tr>\n",
       "    <tr>\n",
       "      <th>3</th>\n",
       "      <td>6019349</td>\n",
       "      <td>442094451_91531546617</td>\n",
       "      <td>154620534_35331068705_522317</td>\n",
       "      <td>step_2</td>\n",
       "      <td>2017-06-01 11:58:08</td>\n",
       "    </tr>\n",
       "    <tr>\n",
       "      <th>4</th>\n",
       "      <td>6019349</td>\n",
       "      <td>442094451_91531546617</td>\n",
       "      <td>154620534_35331068705_522317</td>\n",
       "      <td>step_1</td>\n",
       "      <td>2017-06-01 11:57:58</td>\n",
       "    </tr>\n",
       "    <tr>\n",
       "      <th>...</th>\n",
       "      <td>...</td>\n",
       "      <td>...</td>\n",
       "      <td>...</td>\n",
       "      <td>...</td>\n",
       "      <td>...</td>\n",
       "    </tr>\n",
       "    <tr>\n",
       "      <th>412259</th>\n",
       "      <td>9668240</td>\n",
       "      <td>388766751_9038881013</td>\n",
       "      <td>922267647_3096648104_968866</td>\n",
       "      <td>start</td>\n",
       "      <td>2017-05-24 18:46:10</td>\n",
       "    </tr>\n",
       "    <tr>\n",
       "      <th>412260</th>\n",
       "      <td>9668240</td>\n",
       "      <td>388766751_9038881013</td>\n",
       "      <td>922267647_3096648104_968866</td>\n",
       "      <td>start</td>\n",
       "      <td>2017-05-24 18:45:29</td>\n",
       "    </tr>\n",
       "    <tr>\n",
       "      <th>412261</th>\n",
       "      <td>9668240</td>\n",
       "      <td>388766751_9038881013</td>\n",
       "      <td>922267647_3096648104_968866</td>\n",
       "      <td>step_1</td>\n",
       "      <td>2017-05-24 18:44:51</td>\n",
       "    </tr>\n",
       "    <tr>\n",
       "      <th>412262</th>\n",
       "      <td>9668240</td>\n",
       "      <td>388766751_9038881013</td>\n",
       "      <td>922267647_3096648104_968866</td>\n",
       "      <td>start</td>\n",
       "      <td>2017-05-24 18:44:34</td>\n",
       "    </tr>\n",
       "    <tr>\n",
       "      <th>412263</th>\n",
       "      <td>674799</td>\n",
       "      <td>947159805_81558194550</td>\n",
       "      <td>86152093_47511127657_716022</td>\n",
       "      <td>start</td>\n",
       "      <td>2017-06-03 12:17:09</td>\n",
       "    </tr>\n",
       "  </tbody>\n",
       "</table>\n",
       "<p>412264 rows × 5 columns</p>\n",
       "</div>"
      ],
      "text/plain": [
       "        client_id             visitor_id                      visit_id  \\\n",
       "0          763412  601952081_10457207388  397475557_40440946728_419634   \n",
       "1         6019349  442094451_91531546617  154620534_35331068705_522317   \n",
       "2         6019349  442094451_91531546617  154620534_35331068705_522317   \n",
       "3         6019349  442094451_91531546617  154620534_35331068705_522317   \n",
       "4         6019349  442094451_91531546617  154620534_35331068705_522317   \n",
       "...           ...                    ...                           ...   \n",
       "412259    9668240   388766751_9038881013   922267647_3096648104_968866   \n",
       "412260    9668240   388766751_9038881013   922267647_3096648104_968866   \n",
       "412261    9668240   388766751_9038881013   922267647_3096648104_968866   \n",
       "412262    9668240   388766751_9038881013   922267647_3096648104_968866   \n",
       "412263     674799  947159805_81558194550   86152093_47511127657_716022   \n",
       "\n",
       "       process_step            date_time  \n",
       "0           confirm  2017-06-06 08:56:00  \n",
       "1           confirm  2017-06-01 11:59:27  \n",
       "2            step_3  2017-06-01 11:58:48  \n",
       "3            step_2  2017-06-01 11:58:08  \n",
       "4            step_1  2017-06-01 11:57:58  \n",
       "...             ...                  ...  \n",
       "412259        start  2017-05-24 18:46:10  \n",
       "412260        start  2017-05-24 18:45:29  \n",
       "412261       step_1  2017-05-24 18:44:51  \n",
       "412262        start  2017-05-24 18:44:34  \n",
       "412263        start  2017-06-03 12:17:09  \n",
       "\n",
       "[412264 rows x 5 columns]"
      ]
     },
     "execution_count": 6,
     "metadata": {},
     "output_type": "execute_result"
    }
   ],
   "source": [
    "pt_2"
   ]
  },
  {
   "cell_type": "markdown",
   "metadata": {},
   "source": [
    "--------------------------------------------------------------------------------------------------------------------------------------------\n",
    "--------------------------------------------------------------------------------------------------------------------------------------------\n",
    "--------------------------------------------------------------------------------------------------------------------------------------------\n",
    "--------------------------------------------------------------------------------------------------------------------------------------------"
   ]
  },
  {
   "cell_type": "markdown",
   "metadata": {},
   "source": [
    "# Exploratory Data Analysis (EDA)\n",
    "EDA is a systematic approach to initial data inspection. It leverages **descriptive analysis** techniques to understand the data better, identify outliers, highlight significant variables, and generally uncover underlying data patterns. Additionally, EDA helps in organizing the data, spotting errors, and assessing missing values."
   ]
  },
  {
   "cell_type": "markdown",
   "metadata": {},
   "source": [
    "### **df_final_web_data_pt_1.txt Dataset**"
   ]
  },
  {
   "cell_type": "code",
   "execution_count": 7,
   "metadata": {},
   "outputs": [
    {
     "data": {
      "text/html": [
       "<div>\n",
       "<style scoped>\n",
       "    .dataframe tbody tr th:only-of-type {\n",
       "        vertical-align: middle;\n",
       "    }\n",
       "\n",
       "    .dataframe tbody tr th {\n",
       "        vertical-align: top;\n",
       "    }\n",
       "\n",
       "    .dataframe thead th {\n",
       "        text-align: right;\n",
       "    }\n",
       "</style>\n",
       "<table border=\"1\" class=\"dataframe\">\n",
       "  <thead>\n",
       "    <tr style=\"text-align: right;\">\n",
       "      <th></th>\n",
       "      <th>client_id</th>\n",
       "      <th>visitor_id</th>\n",
       "      <th>visit_id</th>\n",
       "      <th>process_step</th>\n",
       "      <th>date_time</th>\n",
       "    </tr>\n",
       "  </thead>\n",
       "  <tbody>\n",
       "    <tr>\n",
       "      <th>0</th>\n",
       "      <td>9988021</td>\n",
       "      <td>580560515_7732621733</td>\n",
       "      <td>781255054_21935453173_531117</td>\n",
       "      <td>step_3</td>\n",
       "      <td>2017-04-17 15:27:07</td>\n",
       "    </tr>\n",
       "    <tr>\n",
       "      <th>1</th>\n",
       "      <td>9988021</td>\n",
       "      <td>580560515_7732621733</td>\n",
       "      <td>781255054_21935453173_531117</td>\n",
       "      <td>step_2</td>\n",
       "      <td>2017-04-17 15:26:51</td>\n",
       "    </tr>\n",
       "    <tr>\n",
       "      <th>2</th>\n",
       "      <td>9988021</td>\n",
       "      <td>580560515_7732621733</td>\n",
       "      <td>781255054_21935453173_531117</td>\n",
       "      <td>step_3</td>\n",
       "      <td>2017-04-17 15:19:22</td>\n",
       "    </tr>\n",
       "    <tr>\n",
       "      <th>3</th>\n",
       "      <td>9988021</td>\n",
       "      <td>580560515_7732621733</td>\n",
       "      <td>781255054_21935453173_531117</td>\n",
       "      <td>step_2</td>\n",
       "      <td>2017-04-17 15:19:13</td>\n",
       "    </tr>\n",
       "    <tr>\n",
       "      <th>4</th>\n",
       "      <td>9988021</td>\n",
       "      <td>580560515_7732621733</td>\n",
       "      <td>781255054_21935453173_531117</td>\n",
       "      <td>step_3</td>\n",
       "      <td>2017-04-17 15:18:04</td>\n",
       "    </tr>\n",
       "  </tbody>\n",
       "</table>\n",
       "</div>"
      ],
      "text/plain": [
       "   client_id            visitor_id                      visit_id process_step  \\\n",
       "0    9988021  580560515_7732621733  781255054_21935453173_531117       step_3   \n",
       "1    9988021  580560515_7732621733  781255054_21935453173_531117       step_2   \n",
       "2    9988021  580560515_7732621733  781255054_21935453173_531117       step_3   \n",
       "3    9988021  580560515_7732621733  781255054_21935453173_531117       step_2   \n",
       "4    9988021  580560515_7732621733  781255054_21935453173_531117       step_3   \n",
       "\n",
       "             date_time  \n",
       "0  2017-04-17 15:27:07  \n",
       "1  2017-04-17 15:26:51  \n",
       "2  2017-04-17 15:19:22  \n",
       "3  2017-04-17 15:19:13  \n",
       "4  2017-04-17 15:18:04  "
      ]
     },
     "execution_count": 7,
     "metadata": {},
     "output_type": "execute_result"
    }
   ],
   "source": [
    "# Display the first few rows of the dataset\n",
    "pt_1.head()"
   ]
  },
  {
   "cell_type": "code",
   "execution_count": 8,
   "metadata": {},
   "outputs": [
    {
     "data": {
      "text/plain": [
       "(343141, 5)"
      ]
     },
     "execution_count": 8,
     "metadata": {},
     "output_type": "execute_result"
    }
   ],
   "source": [
    "# Retrieving the number of rows and columns in the dataframe\n",
    "pt_1.shape"
   ]
  },
  {
   "cell_type": "code",
   "execution_count": 9,
   "metadata": {},
   "outputs": [
    {
     "data": {
      "text/plain": [
       "client_id        int64\n",
       "visitor_id      object\n",
       "visit_id        object\n",
       "process_step    object\n",
       "date_time       object\n",
       "dtype: object"
      ]
     },
     "execution_count": 9,
     "metadata": {},
     "output_type": "execute_result"
    }
   ],
   "source": [
    "# Displaying the data types of each column in the dataframe\n",
    "pt_1.dtypes"
   ]
  },
  {
   "cell_type": "markdown",
   "metadata": {},
   "source": [
    "# Cleaning the dataset pt_1\n",
    "### Step 1: Remove Duplicates"
   ]
  },
  {
   "cell_type": "code",
   "execution_count": 10,
   "metadata": {},
   "outputs": [
    {
     "name": "stdout",
     "output_type": "stream",
     "text": [
      "Numers of duplicates in pt_1:  2095\n"
     ]
    }
   ],
   "source": [
    "print(\"Numers of duplicates in pt_1: \", pt_1.duplicated().sum())\n",
    "pt_1.drop_duplicates(inplace=True)"
   ]
  },
  {
   "cell_type": "markdown",
   "metadata": {},
   "source": [
    "### Step 2: Check for Missing Values"
   ]
  },
  {
   "cell_type": "code",
   "execution_count": 11,
   "metadata": {},
   "outputs": [
    {
     "name": "stdout",
     "output_type": "stream",
     "text": [
      "Numers of Missing value in pt_1:  client_id       0\n",
      "visitor_id      0\n",
      "visit_id        0\n",
      "process_step    0\n",
      "date_time       0\n",
      "dtype: int64\n"
     ]
    }
   ],
   "source": [
    "print(\"Numers of Missing value in pt_1: \", pt_1.isnull().sum())\n",
    "missing_values = pt_1.isnull().sum()"
   ]
  },
  {
   "cell_type": "markdown",
   "metadata": {},
   "source": [
    "### Step 3: Convert Data Types\n",
    "The date_time column has been converted to datetime format."
   ]
  },
  {
   "cell_type": "code",
   "execution_count": 12,
   "metadata": {},
   "outputs": [
    {
     "data": {
      "text/plain": [
       "client_id                int64\n",
       "visitor_id              object\n",
       "visit_id                object\n",
       "process_step            object\n",
       "date_time       datetime64[ns]\n",
       "dtype: object"
      ]
     },
     "execution_count": 12,
     "metadata": {},
     "output_type": "execute_result"
    }
   ],
   "source": [
    "pt_1['date_time'] = pd.to_datetime(pt_1['date_time'])\n",
    "pt_1.dtypes"
   ]
  },
  {
   "cell_type": "markdown",
   "metadata": {},
   "source": [
    "### Step 4: Normalize Data\n",
    "column has been normalized to lowercase and stripped of any leading/trailing spaces."
   ]
  },
  {
   "cell_type": "code",
   "execution_count": 13,
   "metadata": {},
   "outputs": [],
   "source": [
    "pt_1['process_step'] = pt_1['process_step'].str.lower().str.strip()"
   ]
  },
  {
   "cell_type": "markdown",
   "metadata": {},
   "source": [
    "### Step 5: How many category do we have in column 'process_step'\n"
   ]
  },
  {
   "cell_type": "code",
   "execution_count": 14,
   "metadata": {},
   "outputs": [
    {
     "data": {
      "text/plain": [
       "process_step\n",
       "start      107495\n",
       "step_1      73360\n",
       "step_2      61712\n",
       "step_3      53270\n",
       "confirm     45209\n",
       "Name: count, dtype: int64"
      ]
     },
     "execution_count": 14,
     "metadata": {},
     "output_type": "execute_result"
    }
   ],
   "source": [
    "process_step_categories = pt_1['process_step'].value_counts()\n",
    "process_step_categories"
   ]
  },
  {
   "cell_type": "markdown",
   "metadata": {},
   "source": [
    "# Univariate Analysis"
   ]
  },
  {
   "cell_type": "code",
   "execution_count": 15,
   "metadata": {},
   "outputs": [
    {
     "data": {
      "text/plain": [
       "(process_step\n",
       " start      107495\n",
       " step_1      73360\n",
       " step_2      61712\n",
       " step_3      53270\n",
       " confirm     45209\n",
       " Name: count, dtype: int64,\n",
       " process_step\n",
       " start      0.315192\n",
       " step_1     0.215103\n",
       " step_2     0.180949\n",
       " step_3     0.156196\n",
       " confirm    0.132560\n",
       " Name: proportion, dtype: float64)"
      ]
     },
     "execution_count": 15,
     "metadata": {},
     "output_type": "execute_result"
    }
   ],
   "source": [
    "# Frequency table '\n",
    "frequency_table = pt_1['process_step'].value_counts()\n",
    "\n",
    "# Calculating the proportion of each unique value in the 'process_step'\n",
    "proportion_table = pt_1['process_step'].value_counts(normalize=True)\n",
    "\n",
    "frequency_table, proportion_table"
   ]
  },
  {
   "cell_type": "markdown",
   "metadata": {},
   "source": [
    "The frequency table gives the count of each zoning type, while the proportion table provides the percentage representation of each category in the dataset. This helps to quickly identify dominant and minority categories.\n",
    "\n",
    "**Insights** for 'process_step':\n",
    "\n",
    "- The most common process step classification is 'start', which stands for Residential Low Density, comprising approximately 31.7% of the properties in the dataset.\n",
    "- The second most frequent process step classification is 'step_1', making up roughly 21.4%.\n",
    "\n",
    "#### **Visualizations**\n",
    "\n",
    "Visualizations offer a more intuitive understanding of categorical data distribution. "
   ]
  },
  {
   "cell_type": "code",
   "execution_count": 16,
   "metadata": {},
   "outputs": [
    {
     "name": "stderr",
     "output_type": "stream",
     "text": [
      "C:\\Users\\fjkha\\AppData\\Local\\Temp\\ipykernel_27512\\3710212316.py:2: FutureWarning: \n",
      "\n",
      "Passing `palette` without assigning `hue` is deprecated and will be removed in v0.14.0. Assign the `x` variable to `hue` and set `legend=False` for the same effect.\n",
      "\n",
      "  sns.barplot(x=frequency_table.index, y=frequency_table.values, palette=\"Set3\")\n"
     ]
    },
    {
     "data": {
      "image/png": "[encoded data removed]",
      "text/plain": [
       "<Figure size 640x480 with 1 Axes>"
      ]
     },
     "metadata": {},
     "output_type": "display_data"
    }
   ],
   "source": [
    "# Plotting a bar chart using the values from the frequency table, with colors sourced from the \"Set3\" palette\n",
    "sns.barplot(x=frequency_table.index, y=frequency_table.values, palette=\"Set3\")\n",
    "plt.xlabel('Process Step')\n",
    "plt.ylabel('Frequency')\n",
    "plt.title('Frequency of Process Steps in pt_1')\n",
    "plt.show()"
   ]
  },
  {
   "cell_type": "markdown",
   "metadata": {},
   "source": [
    "--------------------------------------------------------------------------------------------------------------------------------------------\n",
    "--------------------------------------------------------------------------------------------------------------------------------------------\n",
    "--------------------------------------------------------------------------------------------------------------------------------------------\n",
    "--------------------------------------------------------------------------------------------------------------------------------------------"
   ]
  },
  {
   "cell_type": "markdown",
   "metadata": {},
   "source": [
    "### **df_final_web_data_pt_2.txt Dataset**"
   ]
  },
  {
   "cell_type": "code",
   "execution_count": 17,
   "metadata": {},
   "outputs": [
    {
     "data": {
      "text/html": [
       "<div>\n",
       "<style scoped>\n",
       "    .dataframe tbody tr th:only-of-type {\n",
       "        vertical-align: middle;\n",
       "    }\n",
       "\n",
       "    .dataframe tbody tr th {\n",
       "        vertical-align: top;\n",
       "    }\n",
       "\n",
       "    .dataframe thead th {\n",
       "        text-align: right;\n",
       "    }\n",
       "</style>\n",
       "<table border=\"1\" class=\"dataframe\">\n",
       "  <thead>\n",
       "    <tr style=\"text-align: right;\">\n",
       "      <th></th>\n",
       "      <th>client_id</th>\n",
       "      <th>visitor_id</th>\n",
       "      <th>visit_id</th>\n",
       "      <th>process_step</th>\n",
       "      <th>date_time</th>\n",
       "    </tr>\n",
       "  </thead>\n",
       "  <tbody>\n",
       "    <tr>\n",
       "      <th>0</th>\n",
       "      <td>763412</td>\n",
       "      <td>601952081_10457207388</td>\n",
       "      <td>397475557_40440946728_419634</td>\n",
       "      <td>confirm</td>\n",
       "      <td>2017-06-06 08:56:00</td>\n",
       "    </tr>\n",
       "    <tr>\n",
       "      <th>1</th>\n",
       "      <td>6019349</td>\n",
       "      <td>442094451_91531546617</td>\n",
       "      <td>154620534_35331068705_522317</td>\n",
       "      <td>confirm</td>\n",
       "      <td>2017-06-01 11:59:27</td>\n",
       "    </tr>\n",
       "    <tr>\n",
       "      <th>2</th>\n",
       "      <td>6019349</td>\n",
       "      <td>442094451_91531546617</td>\n",
       "      <td>154620534_35331068705_522317</td>\n",
       "      <td>step_3</td>\n",
       "      <td>2017-06-01 11:58:48</td>\n",
       "    </tr>\n",
       "    <tr>\n",
       "      <th>3</th>\n",
       "      <td>6019349</td>\n",
       "      <td>442094451_91531546617</td>\n",
       "      <td>154620534_35331068705_522317</td>\n",
       "      <td>step_2</td>\n",
       "      <td>2017-06-01 11:58:08</td>\n",
       "    </tr>\n",
       "    <tr>\n",
       "      <th>4</th>\n",
       "      <td>6019349</td>\n",
       "      <td>442094451_91531546617</td>\n",
       "      <td>154620534_35331068705_522317</td>\n",
       "      <td>step_1</td>\n",
       "      <td>2017-06-01 11:57:58</td>\n",
       "    </tr>\n",
       "  </tbody>\n",
       "</table>\n",
       "</div>"
      ],
      "text/plain": [
       "   client_id             visitor_id                      visit_id  \\\n",
       "0     763412  601952081_10457207388  397475557_40440946728_419634   \n",
       "1    6019349  442094451_91531546617  154620534_35331068705_522317   \n",
       "2    6019349  442094451_91531546617  154620534_35331068705_522317   \n",
       "3    6019349  442094451_91531546617  154620534_35331068705_522317   \n",
       "4    6019349  442094451_91531546617  154620534_35331068705_522317   \n",
       "\n",
       "  process_step            date_time  \n",
       "0      confirm  2017-06-06 08:56:00  \n",
       "1      confirm  2017-06-01 11:59:27  \n",
       "2       step_3  2017-06-01 11:58:48  \n",
       "3       step_2  2017-06-01 11:58:08  \n",
       "4       step_1  2017-06-01 11:57:58  "
      ]
     },
     "execution_count": 17,
     "metadata": {},
     "output_type": "execute_result"
    }
   ],
   "source": [
    "# Display the first few rows of the dataset\n",
    "pt_2.head()"
   ]
  },
  {
   "cell_type": "code",
   "execution_count": 18,
   "metadata": {},
   "outputs": [
    {
     "data": {
      "text/plain": [
       "(412264, 5)"
      ]
     },
     "execution_count": 18,
     "metadata": {},
     "output_type": "execute_result"
    }
   ],
   "source": [
    "# Retrieving the number of rows and columns in the dataframe\n",
    "pt_2.shape"
   ]
  },
  {
   "cell_type": "code",
   "execution_count": 19,
   "metadata": {},
   "outputs": [
    {
     "data": {
      "text/plain": [
       "client_id        int64\n",
       "visitor_id      object\n",
       "visit_id        object\n",
       "process_step    object\n",
       "date_time       object\n",
       "dtype: object"
      ]
     },
     "execution_count": 19,
     "metadata": {},
     "output_type": "execute_result"
    }
   ],
   "source": [
    "# Displaying the data types of each column in the dataframe\n",
    "pt_2.dtypes"
   ]
  },
  {
   "cell_type": "markdown",
   "metadata": {},
   "source": [
    "# Cleaning the dataset pt_2\n",
    "### Step 1: Remove Duplicates"
   ]
  },
  {
   "cell_type": "code",
   "execution_count": 20,
   "metadata": {},
   "outputs": [
    {
     "name": "stdout",
     "output_type": "stream",
     "text": [
      "Numers of duplicates in pt_2:  8669\n"
     ]
    }
   ],
   "source": [
    "print(\"Numers of duplicates in pt_2: \", pt_2.duplicated().sum())\n",
    "pt_2.drop_duplicates(inplace=True)"
   ]
  },
  {
   "cell_type": "markdown",
   "metadata": {},
   "source": [
    "### Step 2: Check for Missing Values"
   ]
  },
  {
   "cell_type": "code",
   "execution_count": 21,
   "metadata": {},
   "outputs": [
    {
     "name": "stdout",
     "output_type": "stream",
     "text": [
      "Numers of Missing value in pt_2:  client_id       0\n",
      "visitor_id      0\n",
      "visit_id        0\n",
      "process_step    0\n",
      "date_time       0\n",
      "dtype: int64\n"
     ]
    }
   ],
   "source": [
    "print(\"Numers of Missing value in pt_2: \", pt_2.isnull().sum())\n",
    "missing_values = pt_2.isnull().sum()"
   ]
  },
  {
   "cell_type": "markdown",
   "metadata": {},
   "source": [
    "### Step 3: Convert Data Types\n",
    "The date_time column has been converted to datetime format."
   ]
  },
  {
   "cell_type": "code",
   "execution_count": 22,
   "metadata": {},
   "outputs": [
    {
     "data": {
      "text/plain": [
       "client_id                int64\n",
       "visitor_id              object\n",
       "visit_id                object\n",
       "process_step            object\n",
       "date_time       datetime64[ns]\n",
       "dtype: object"
      ]
     },
     "execution_count": 22,
     "metadata": {},
     "output_type": "execute_result"
    }
   ],
   "source": [
    "pt_2['date_time'] = pd.to_datetime(pt_2['date_time'])\n",
    "pt_2.dtypes"
   ]
  },
  {
   "cell_type": "markdown",
   "metadata": {},
   "source": [
    "### Step 4: Normalize Data\n",
    "column has been normalized to lowercase and stripped of any leading/trailing spaces."
   ]
  },
  {
   "cell_type": "code",
   "execution_count": 23,
   "metadata": {},
   "outputs": [],
   "source": [
    "pt_2['process_step'] = pt_2['process_step'].str.lower().str.strip()"
   ]
  },
  {
   "cell_type": "markdown",
   "metadata": {},
   "source": [
    "### Step 5: How many category do we have in column 'process_step'\n"
   ]
  },
  {
   "cell_type": "code",
   "execution_count": 24,
   "metadata": {},
   "outputs": [
    {
     "data": {
      "text/plain": [
       "process_step\n",
       "start      127504\n",
       "step_1      89437\n",
       "step_2      71038\n",
       "step_3      58319\n",
       "confirm     57297\n",
       "Name: count, dtype: int64"
      ]
     },
     "execution_count": 24,
     "metadata": {},
     "output_type": "execute_result"
    }
   ],
   "source": [
    "process_step_categories = pt_2['process_step'].value_counts()\n",
    "process_step_categories"
   ]
  },
  {
   "cell_type": "markdown",
   "metadata": {},
   "source": [
    "# Univariate Analysis"
   ]
  },
  {
   "cell_type": "code",
   "execution_count": 25,
   "metadata": {},
   "outputs": [
    {
     "data": {
      "text/plain": [
       "(process_step\n",
       " start      127504\n",
       " step_1      89437\n",
       " step_2      71038\n",
       " step_3      58319\n",
       " confirm     57297\n",
       " Name: count, dtype: int64,\n",
       " process_step\n",
       " start      0.315921\n",
       " step_1     0.221601\n",
       " step_2     0.176013\n",
       " step_3     0.144499\n",
       " confirm    0.141967\n",
       " Name: proportion, dtype: float64)"
      ]
     },
     "execution_count": 25,
     "metadata": {},
     "output_type": "execute_result"
    }
   ],
   "source": [
    "# Frequency table '\n",
    "frequency_table = pt_2['process_step'].value_counts()\n",
    "\n",
    "# Calculating the proportion of each unique value in the 'process_step'\n",
    "proportion_table = pt_2['process_step'].value_counts(normalize=True)\n",
    "\n",
    "frequency_table, proportion_table"
   ]
  },
  {
   "cell_type": "markdown",
   "metadata": {},
   "source": [
    "The frequency table gives the count of each zoning type, while the proportion table provides the percentage representation of each category in the dataset. This helps to quickly identify dominant and minority categories.\n",
    "\n",
    "**Insights** for 'process_step':\n",
    "\n",
    "- The most common process step classification is 'start', which stands for Residential Low Density, comprising approximately 31.7% of the properties in the dataset.\n",
    "- The second most frequent process step classification is 'step_1', making up roughly 21.4%.\n",
    "\n",
    "#### **Visualizations**\n",
    "\n",
    "Visualizations offer a more intuitive understanding of categorical data distribution. "
   ]
  },
  {
   "cell_type": "code",
   "execution_count": 26,
   "metadata": {},
   "outputs": [
    {
     "name": "stderr",
     "output_type": "stream",
     "text": [
      "C:\\Users\\fjkha\\AppData\\Local\\Temp\\ipykernel_27512\\1880881508.py:2: FutureWarning: \n",
      "\n",
      "Passing `palette` without assigning `hue` is deprecated and will be removed in v0.14.0. Assign the `x` variable to `hue` and set `legend=False` for the same effect.\n",
      "\n",
      "  sns.barplot(x=frequency_table.index, y=frequency_table.values, palette=\"Set3\")\n"
     ]
    },
    {
     "data": {
      "image/png": "[encoded data removed]",
      "text/plain": [
       "<Figure size 640x480 with 1 Axes>"
      ]
     },
     "metadata": {},
     "output_type": "display_data"
    }
   ],
   "source": [
    "# Plotting a bar chart using the values from the frequency table, with colors sourced from the \"Set3\" palette\n",
    "sns.barplot(x=frequency_table.index, y=frequency_table.values, palette=\"Set3\")\n",
    "plt.xlabel('Process Step')\n",
    "plt.ylabel('Frequency')\n",
    "plt.title('Frequency of Process Steps in pt_2')\n",
    "plt.show()"
   ]
  },
  {
   "cell_type": "markdown",
   "metadata": {},
   "source": [
    "Saving the datasets."
   ]
  },
  {
   "cell_type": "code",
   "execution_count": 27,
   "metadata": {},
   "outputs": [],
   "source": [
    "# Save the cleaned data to a new file\n",
    "\n",
    "pt_1.to_csv('../Data/cleaned_pt_1.csv', index=False)\n",
    "pt_2.to_csv('../Data/cleaned_pt_2.csv', index=False)\n"
   ]
  }
 ],
 "metadata": {
  "kernelspec": {
   "display_name": "Python 3",
   "language": "python",
   "name": "python3"
  },
  "language_info": {
   "codemirror_mode": {
    "name": "ipython",
    "version": 3
   },
   "file_extension": ".py",
   "mimetype": "text/x-python",
   "name": "python",
   "nbconvert_exporter": "python",
   "pygments_lexer": "ipython3",
   "version": "3.12.4"
  }
 },
 "nbformat": 4,
 "nbformat_minor": 2
}
